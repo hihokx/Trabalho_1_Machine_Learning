{
  "nbformat": 4,
  "nbformat_minor": 0,
  "metadata": {
    "colab": {
      "provenance": [],
      "collapsed_sections": []
    },
    "kernelspec": {
      "name": "python3",
      "display_name": "Python 3"
    },
    "language_info": {
      "name": "python"
    }
  },
  "cells": [
    {
      "cell_type": "markdown",
      "source": [
        "**Trabalho Modelo Linear Generalizado**\n",
        "\n",
        "Gustavo Mario Detile (NUSP 11931653)\n",
        "\n",
        "Gabriel Ferri Pires de Carvalho (NUSP 11218427)"
      ],
      "metadata": {
        "id": "syZ8Aof4jOMg"
      }
    },
    {
      "cell_type": "code",
      "execution_count": null,
      "metadata": {
        "id": "mJQ0QnRIvNLm"
      },
      "outputs": [],
      "source": [
        "import pandas as pd\n",
        "import numpy as np\n",
        "import statsmodels.formula.api as smf\n",
        "from statsmodels.genmod.families import links\n",
        "import math\n",
        "from sklearn.feature_selection import chi2\n",
        "import scipy.stats as stat\n",
        "from scipy.stats import norm\n",
        "from scipy.special import logit\n",
        "from matplotlib import pyplot as plt\n",
        "import statsmodels.api as sm\n",
        "import plotly.express as px\n"
      ]
    },
    {
      "cell_type": "markdown",
      "source": [
        "Entrada dos Dados"
      ],
      "metadata": {
        "id": "LtBWoCxJaGWd"
      }
    },
    {
      "cell_type": "code",
      "source": [
        "dose = [10.2, 7.7, 5.1, 3.8, 2.6, 0.0]\n",
        "m = [50, 49, 46, 48, 50, 49]\n",
        "y = [44, 42, 24, 16, 6, 0]\n",
        "\n",
        "#### y2 == m-n\n",
        "\n",
        "dados = pd.DataFrame({'dose': [10.2, 7.7, 5.1, 3.8, 2.6, 0.0],'y': [44, 42, 24, 16, 6, 0], 'y2':[6,7,22,32,44,49]})"
      ],
      "metadata": {
        "id": "ctG1tDvGBtxM"
      },
      "execution_count": 53,
      "outputs": []
    },
    {
      "cell_type": "markdown",
      "source": [
        "Gráfico de Dispersão"
      ],
      "metadata": {
        "id": "frRy3yS6aVjG"
      }
    },
    {
      "cell_type": "code",
      "source": [
        "pmortos = []\n",
        "for i in range(0,6):\n",
        "  pmortos.append(round(float(y[i]/m[i]),7))\n",
        "\n",
        "\n",
        "\n",
        "plt.scatter(dose,pmortos)\n",
        "plt.xlabel(\"Dose\")\n",
        "plt.ylabel(\"Proporção de Insetos Mortos\")\n",
        "plt.show()\n",
        "  "
      ],
      "metadata": {
        "id": "XnfPmjv8Z6dC",
        "colab": {
          "base_uri": "https://localhost:8080/",
          "height": 279
        },
        "outputId": "13b6de45-91a2-4540-a7a7-47496731b2ee"
      },
      "execution_count": 54,
      "outputs": [
        {
          "output_type": "display_data",
          "data": {
            "text/plain": [
              "<Figure size 432x288 with 1 Axes>"
            ],
            "image/png": "[encoded data removed]"
          },
          "metadata": {
            "needs_background": "light"
          }
        }
      ]
    },
    {
      "cell_type": "markdown",
      "source": [
        "Modelo Binomial"
      ],
      "metadata": {
        "id": "8Fm4XBgDaaz1"
      }
    },
    {
      "cell_type": "code",
      "source": [
        "## Ligação canonica (default)\n",
        "\n",
        "sucs = dados[['y','y2']]\n",
        "faill = sm.add_constant(dados.dose)\n",
        "modelo1 = sm.GLM(sucs,faill,sm.families.Binomial()).fit()\n",
        "print(modelo1.summary())\n"
      ],
      "metadata": {
        "colab": {
          "base_uri": "https://localhost:8080/"
        },
        "id": "jNZ4y6LjbHiZ",
        "outputId": "63c23db4-c20c-4bb4-86f9-3aa741ef2220"
      },
      "execution_count": 60,
      "outputs": [
        {
          "output_type": "stream",
          "name": "stdout",
          "text": [
            "                 Generalized Linear Model Regression Results                  \n",
            "==============================================================================\n",
            "Dep. Variable:            ['y', 'y2']   No. Observations:                    6\n",
            "Model:                            GLM   Df Residuals:                        4\n",
            "Model Family:                Binomial   Df Model:                            1\n",
            "Link Function:                  logit   Scale:                          1.0000\n",
            "Method:                          IRLS   Log-Likelihood:                -14.739\n",
            "Date:                Wed, 28 Sep 2022   Deviance:                       10.258\n",
            "Time:                        23:55:25   Pearson chi2:                     9.70\n",
            "No. Iterations:                     5                                         \n",
            "Covariance Type:            nonrobust                                         \n",
            "==============================================================================\n",
            "                 coef    std err          z      P>|z|      [0.025      0.975]\n",
            "------------------------------------------------------------------------------\n",
            "const         -3.2257      0.370     -8.720      0.000      -3.951      -2.501\n",
            "dose           0.6051      0.068      8.924      0.000       0.472       0.738\n",
            "==============================================================================\n"
          ]
        },
        {
          "output_type": "stream",
          "name": "stderr",
          "text": [
            "/usr/local/lib/python3.7/dist-packages/statsmodels/tsa/tsatools.py:142: FutureWarning: In a future version of pandas all arguments of concat except for the argument 'objs' will be keyword-only\n",
            "  x = pd.concat(x[::order], 1)\n"
          ]
        }
      ]
    },
    {
      "cell_type": "markdown",
      "source": [
        "Teste de Hipótese"
      ],
      "metadata": {
        "id": "TKIan0NNcCN-"
      }
    },
    {
      "cell_type": "code",
      "source": [
        "chi_scores = stat.chi2.cdf(modelo1.deviance,df=modelo1.df_resid)\n",
        "print(\"p-valor: \",round((1-chi_scores), 3))"
      ],
      "metadata": {
        "colab": {
          "base_uri": "https://localhost:8080/"
        },
        "id": "46GFeMZqcEd6",
        "outputId": "27fce635-5574-4d6b-a0df-a9995070d047"
      },
      "execution_count": 56,
      "outputs": [
        {
          "output_type": "stream",
          "name": "stdout",
          "text": [
            "p-valor:  0.036\n"
          ]
        }
      ]
    },
    {
      "cell_type": "markdown",
      "source": [
        "*não rejeitamos a hipótese de que o modelo faz um bom ajuste aos dados (1% sig.)*\n"
      ],
      "metadata": {
        "id": "qjboCSG8c4DW"
      }
    },
    {
      "cell_type": "markdown",
      "source": [
        " Sobreponha a curva ajustada ao gráfico da figura à pag. 1."
      ],
      "metadata": {
        "id": "FaLGFOlZdNsT"
      }
    },
    {
      "cell_type": "code",
      "source": [
        "\n",
        "plt.scatter(dose,pmortos)\n",
        "y_pred = modelo1.predict()\n",
        "plt.plot(dose,pmortos, 'ro', label='Dados originais')\n",
        "plt.plot(dose,y_pred, 'go-', label = 'Dados preditos')\n",
        "plt.ylabel(\"Proporção\")\n",
        "plt.xlabel(\"Dose\")\n",
        "plt.grid()\n",
        "plt.legend()\n",
        "plt.show(True)\n",
        "\n",
        "## Intervalos de confiança assintóticos\n",
        "# x1 = 'Dose', 0 = '2,5%', 1 = '97,5%'\n",
        "round(modelo1.conf_int(),3)\n"
      ],
      "metadata": {
        "id": "HrwBx47KdVXi",
        "colab": {
          "base_uri": "https://localhost:8080/",
          "height": 374
        },
        "outputId": "1ddbf003-b57c-41f4-8c07-9591f5a80b16"
      },
      "execution_count": 57,
      "outputs": [
        {
          "output_type": "display_data",
          "data": {
            "text/plain": [
              "<Figure size 432x288 with 1 Axes>"
            ],
            "image/png": "[encoded data removed]"
          },
          "metadata": {
            "needs_background": "light"
          }
        },
        {
          "output_type": "execute_result",
          "data": {
            "text/plain": [
              "           0      1\n",
              "const -3.951 -2.501\n",
              "x1     0.472  0.738"
            ],
            "text/html": [
              "\n",
              "  <div id=\"df-d3058a18-9630-427e-8236-534ac0dc796f\">\n",
              "    <div class=\"colab-df-container\">\n",
              "      <div>\n",
              "<style scoped>\n",
              "    .dataframe tbody tr th:only-of-type {\n",
              "        vertical-align: middle;\n",
              "    }\n",
              "\n",
              "    .dataframe tbody tr th {\n",
              "        vertical-align: top;\n",
              "    }\n",
              "\n",
              "    .dataframe thead th {\n",
              "        text-align: right;\n",
              "    }\n",
              "</style>\n",
              "<table border=\"1\" class=\"dataframe\">\n",
              "  <thead>\n",
              "    <tr style=\"text-align: right;\">\n",
              "      <th></th>\n",
              "      <th>0</th>\n",
              "      <th>1</th>\n",
              "    </tr>\n",
              "  </thead>\n",
              "  <tbody>\n",
              "    <tr>\n",
              "      <th>const</th>\n",
              "      <td>-3.951</td>\n",
              "      <td>-2.501</td>\n",
              "    </tr>\n",
              "    <tr>\n",
              "      <th>x1</th>\n",
              "      <td>0.472</td>\n",
              "      <td>0.738</td>\n",
              "    </tr>\n",
              "  </tbody>\n",
              "</table>\n",
              "</div>\n",
              "      <button class=\"colab-df-convert\" onclick=\"convertToInteractive('df-d3058a18-9630-427e-8236-534ac0dc796f')\"\n",
              "              title=\"Convert this dataframe to an interactive table.\"\n",
              "              style=\"display:none;\">\n",
              "        \n",
              "  <svg xmlns=\"http://www.w3.org/2000/svg\" height=\"24px\"viewBox=\"0 0 24 24\"\n",
              "       width=\"24px\">\n",
              "    <path d=\"M0 0h24v24H0V0z\" fill=\"none\"/>\n",
              "    <path d=\"M18.56 5.44l.94 2.06.94-2.06 2.06-.94-2.06-.94-.94-2.06-.94 2.06-2.06.94zm-11 1L8.5 8.5l.94-2.06 2.06-.94-2.06-.94L8.5 2.5l-.94 2.06-2.06.94zm10 10l.94 2.06.94-2.06 2.06-.94-2.06-.94-.94-2.06-.94 2.06-2.06.94z\"/><path d=\"M17.41 7.96l-1.37-1.37c-.4-.4-.92-.59-1.43-.59-.52 0-1.04.2-1.43.59L10.3 9.45l-7.72 7.72c-.78.78-.78 2.05 0 2.83L4 21.41c.39.39.9.59 1.41.59.51 0 1.02-.2 1.41-.59l7.78-7.78 2.81-2.81c.8-.78.8-2.07 0-2.86zM5.41 20L4 18.59l7.72-7.72 1.47 1.35L5.41 20z\"/>\n",
              "  </svg>\n",
              "      </button>\n",
              "      \n",
              "  <style>\n",
              "    .colab-df-container {\n",
              "      display:flex;\n",
              "      flex-wrap:wrap;\n",
              "      gap: 12px;\n",
              "    }\n",
              "\n",
              "    .colab-df-convert {\n",
              "      background-color: #E8F0FE;\n",
              "      border: none;\n",
              "      border-radius: 50%;\n",
              "      cursor: pointer;\n",
              "      display: none;\n",
              "      fill: #1967D2;\n",
              "      height: 32px;\n",
              "      padding: 0 0 0 0;\n",
              "      width: 32px;\n",
              "    }\n",
              "\n",
              "    .colab-df-convert:hover {\n",
              "      background-color: #E2EBFA;\n",
              "      box-shadow: 0px 1px 2px rgba(60, 64, 67, 0.3), 0px 1px 3px 1px rgba(60, 64, 67, 0.15);\n",
              "      fill: #174EA6;\n",
              "    }\n",
              "\n",
              "    [theme=dark] .colab-df-convert {\n",
              "      background-color: #3B4455;\n",
              "      fill: #D2E3FC;\n",
              "    }\n",
              "\n",
              "    [theme=dark] .colab-df-convert:hover {\n",
              "      background-color: #434B5C;\n",
              "      box-shadow: 0px 1px 3px 1px rgba(0, 0, 0, 0.15);\n",
              "      filter: drop-shadow(0px 1px 2px rgba(0, 0, 0, 0.3));\n",
              "      fill: #FFFFFF;\n",
              "    }\n",
              "  </style>\n",
              "\n",
              "      <script>\n",
              "        const buttonEl =\n",
              "          document.querySelector('#df-d3058a18-9630-427e-8236-534ac0dc796f button.colab-df-convert');\n",
              "        buttonEl.style.display =\n",
              "          google.colab.kernel.accessAllowed ? 'block' : 'none';\n",
              "\n",
              "        async function convertToInteractive(key) {\n",
              "          const element = document.querySelector('#df-d3058a18-9630-427e-8236-534ac0dc796f');\n",
              "          const dataTable =\n",
              "            await google.colab.kernel.invokeFunction('convertToInteractive',\n",
              "                                                     [key], {});\n",
              "          if (!dataTable) return;\n",
              "\n",
              "          const docLinkHtml = 'Like what you see? Visit the ' +\n",
              "            '<a target=\"_blank\" href=https://colab.research.google.com/notebooks/data_table.ipynb>data table notebook</a>'\n",
              "            + ' to learn more about interactive tables.';\n",
              "          element.innerHTML = '';\n",
              "          dataTable['output_type'] = 'display_data';\n",
              "          await google.colab.output.renderOutput(dataTable, element);\n",
              "          const docLink = document.createElement('div');\n",
              "          docLink.innerHTML = docLinkHtml;\n",
              "          element.appendChild(docLink);\n",
              "        }\n",
              "      </script>\n",
              "    </div>\n",
              "  </div>\n",
              "  "
            ]
          },
          "metadata": {},
          "execution_count": 57
        }
      ]
    },
    {
      "cell_type": "markdown",
      "source": [
        "Razão de Chances"
      ],
      "metadata": {
        "id": "YBWSlylOfxNo"
      }
    },
    {
      "cell_type": "code",
      "source": [
        "modelo1.params\n",
        "print(\"Razão de Chances =\", round(math.exp(modelo1.params['dose']),3))\n",
        "\n",
        "##  IC para Razão de Chances\n",
        "\n",
        "VALUES1 = modelo1.conf_int().values\n",
        "print (\"Intervalo de Confiança:\")\n",
        "print(round(math.exp(VALUES1[1,0]),5),round(math.exp(VALUES1[1,1]),5))\n"
      ],
      "metadata": {
        "colab": {
          "base_uri": "https://localhost:8080/"
        },
        "id": "OzrfvHPwfffc",
        "outputId": "acd65d94-165b-4465-c2c3-e9a6c6a4bcbd"
      },
      "execution_count": 70,
      "outputs": [
        {
          "output_type": "stream",
          "name": "stdout",
          "text": [
            "Razão de Chances = 1.831\n",
            "Intervalo de Confiança:\n",
            "1.60354 2.09182\n"
          ]
        }
      ]
    },
    {
      "cell_type": "markdown",
      "source": [
        "Dose Letal"
      ],
      "metadata": {
        "id": "_rnWirhbjJqj"
      }
    },
    {
      "cell_type": "code",
      "source": [
        "def DL(prob):\n",
        " return((math.log(prob / (1 - prob)) - modelo1.params[0]) / modelo1.params[1])\n",
        "print(\"DL50 e DL90 = \",DL(0.5), DL(0.9))\n",
        "\n",
        "## Intervalo de Confiança\n",
        "cov = np.array(modelo1.normalized_cov_params)\n",
        "\n",
        "def IC(prob):\n",
        " b = np.array([[-1/modelo1.params[1]],\n",
        " [(np.log(prob / (1 - prob)) - modelo1.params[0]) / (modelo1.params[1]*modelo1.params[1])]])\n",
        " p = b.transpose() @ cov @ b\n",
        " return 'Inferior', DL(prob) - 1.96*math.sqrt(p) , 'Superior' , DL(prob)+ 1.96*math.sqrt(p)\n",
        "\n",
        "print('IC DL50', IC(0.5))\n",
        "print('IC DL90', IC(0.9))"
      ],
      "metadata": {
        "colab": {
          "base_uri": "https://localhost:8080/"
        },
        "id": "QyiYXJHvjMLX",
        "outputId": "2349130a-358f-4dbd-fb44-5b23c0f0a21f"
      },
      "execution_count": 79,
      "outputs": [
        {
          "output_type": "stream",
          "name": "stdout",
          "text": [
            "DL50 e DL90 =  5.3305686438715 8.961591258619604\n",
            "IC DL50 ('Inferior', 3.0195101436148786, 'Superior', 7.641627144128121)\n",
            "IC DL90 ('Inferior', 5.867876049715679, 'Superior', 12.055306467523529)\n"
          ]
        }
      ]
    },
    {
      "cell_type": "markdown",
      "source": [
        "Inversa das funções de ligação"
      ],
      "metadata": {
        "id": "azgKyKsTmAny"
      }
    },
    {
      "cell_type": "code",
      "source": [
        "def abline(slope, intercept):\n",
        " axes = plt.gca()\n",
        " x_vals = np.array(axes.get_xlim())\n",
        " y_vals = intercept + slope * x_vals\n",
        " plt.plot(x_vals, y_vals, '--')\n",
        "\n",
        "def plogis(x):\n",
        " x = float(x)\n",
        " return 1 / (1 + math.exp(-x))\n",
        "\n",
        "plogis1 = np.vectorize(plogis)\n",
        "\n",
        "# Clog-log\n",
        "def ploglog(x):\n",
        " x = float(x)\n",
        " return (1 - math.exp(-math.exp(x)))\n",
        "ploglog1 = np.vectorize(ploglog)\n",
        "\n",
        "x = np.arange(-4, 4.01, 0.01)\n",
        "plt.plot(x, plogis1(x), color=\"black\")\n",
        "plt.plot(x, norm.cdf(x), color=\"blue\") \n",
        "plt.plot(x, ploglog1(x), color=\"red\")\n",
        "plt.ylim(0, 1)\n",
        "plt.xlim(-4, 4)\n",
        "plt.xlabel(r'$\\eta$', fontsize=13)\n",
        "plt.ylabel(r'$\\pi(\\eta)$', fontsize=13)\n",
        "plt.axvline(x = 0, color = 'black', linestyle='--')\n",
        "plt.show()\n"
      ],
      "metadata": {
        "colab": {
          "base_uri": "https://localhost:8080/",
          "height": 287
        },
        "id": "Vak59Jj5mlvG",
        "outputId": "0c717b81-7c5c-4b32-8502-c5f5da67b9d8"
      },
      "execution_count": 81,
      "outputs": [
        {
          "output_type": "display_data",
          "data": {
            "text/plain": [
              "<Figure size 432x288 with 1 Axes>"
            ],
            "image/png": "[encoded data removed]"
          },
          "metadata": {
            "needs_background": "light"
          }
        }
      ]
    },
    {
      "cell_type": "markdown",
      "source": [
        "Ajustes"
      ],
      "metadata": {
        "id": "ag9rHimSnpdI"
      }
    },
    {
      "cell_type": "code",
      "source": [
        "## Probito\n",
        "\n",
        "sucs = dados[['y','y2']]\n",
        "faill = sm.add_constant(dados['dose'])\n",
        "modelo1_probit = sm.GLM(sucs,faill,family=sm.families.Binomial(link = links.probit()))\n",
        "modelo1_probit_result = modelo1_probit.fit()\n",
        "print(modelo1_probit_result.summary())\n",
        "\n",
        "chi_scores = stat.chi2.cdf(modelo1_probit_result.deviance,df=modelo1_probit_result.df_resid)\n",
        "print(\"p-valor probito: \",round((1-chi_scores), 5))\n",
        "print(\"\\n\")\n",
        "## Cloglog\n",
        "\n",
        "sucs = dados[['y','y2']]\n",
        "faill = sm.add_constant(dados['dose'])\n",
        "modelo1_cloglog = sm.GLM(sucs,faill,family=sm.families.Binomial(link = links.cloglog()))\n",
        "modelo1_cloglog_result = modelo1_cloglog.fit()\n",
        "print(modelo1_cloglog_result.summary())\n",
        "\n",
        "chi_scores2 = stat.chi2.cdf(modelo1_cloglog_result.deviance,df=modelo1_cloglog_result.df_resid)\n",
        "print(\"p-valor cloglog: \",round((1-chi_scores2), 5))"
      ],
      "metadata": {
        "colab": {
          "base_uri": "https://localhost:8080/"
        },
        "id": "74Nu5m1anlaP",
        "outputId": "c3f81553-0168-403d-8617-e084e1a2b36e"
      },
      "execution_count": 91,
      "outputs": [
        {
          "output_type": "stream",
          "name": "stdout",
          "text": [
            "                 Generalized Linear Model Regression Results                  \n",
            "==============================================================================\n",
            "Dep. Variable:            ['y', 'y2']   No. Observations:                    6\n",
            "Model:                            GLM   Df Residuals:                        4\n",
            "Model Family:                Binomial   Df Model:                            1\n",
            "Link Function:                 probit   Scale:                          1.0000\n",
            "Method:                          IRLS   Log-Likelihood:                -14.938\n",
            "Date:                Thu, 29 Sep 2022   Deviance:                       10.655\n",
            "Time:                        00:29:34   Pearson chi2:                     10.4\n",
            "No. Iterations:                     6                                         \n",
            "Covariance Type:            nonrobust                                         \n",
            "==============================================================================\n",
            "                 coef    std err          z      P>|z|      [0.025      0.975]\n",
            "------------------------------------------------------------------------------\n",
            "const         -1.8778      0.195     -9.637      0.000      -2.260      -1.496\n",
            "dose           0.3455      0.034     10.056      0.000       0.278       0.413\n",
            "==============================================================================\n",
            "p-valor probito:  0.03072\n",
            "\n",
            "\n",
            "                 Generalized Linear Model Regression Results                  \n",
            "==============================================================================\n",
            "Dep. Variable:            ['y', 'y2']   No. Observations:                    6\n",
            "Model:                            GLM   Df Residuals:                        4\n",
            "Model Family:                Binomial   Df Model:                            1\n",
            "Link Function:                cloglog   Scale:                          1.0000\n",
            "Method:                          IRLS   Log-Likelihood:                -21.170\n",
            "Date:                Thu, 29 Sep 2022   Deviance:                       23.119\n",
            "Time:                        00:29:34   Pearson chi2:                     19.8\n",
            "No. Iterations:                     8                                         \n",
            "Covariance Type:            nonrobust                                         \n",
            "==============================================================================\n",
            "                 coef    std err          z      P>|z|      [0.025      0.975]\n",
            "------------------------------------------------------------------------------\n",
            "const         -2.3974      0.245     -9.779      0.000      -2.878      -1.917\n",
            "dose           0.3449      0.035      9.908      0.000       0.277       0.413\n",
            "==============================================================================\n",
            "p-valor cloglog:  0.00012\n"
          ]
        },
        {
          "output_type": "stream",
          "name": "stderr",
          "text": [
            "/usr/local/lib/python3.7/dist-packages/statsmodels/tsa/tsatools.py:142: FutureWarning: In a future version of pandas all arguments of concat except for the argument 'objs' will be keyword-only\n",
            "  x = pd.concat(x[::order], 1)\n",
            "/usr/local/lib/python3.7/dist-packages/statsmodels/tsa/tsatools.py:142: FutureWarning: In a future version of pandas all arguments of concat except for the argument 'objs' will be keyword-only\n",
            "  x = pd.concat(x[::order], 1)\n"
          ]
        }
      ]
    },
    {
      "cell_type": "markdown",
      "source": [],
      "metadata": {
        "id": "My7nyn7El4bf"
      }
    }
  ]
}